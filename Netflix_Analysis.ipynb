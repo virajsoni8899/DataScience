{
  "nbformat": 4,
  "nbformat_minor": 0,
  "metadata": {
    "colab": {
      "provenance": [],
      "authorship_tag": "ABX9TyMpWRNovdG+1PVeT0GArvyh",
      "include_colab_link": true
    },
    "kernelspec": {
      "name": "python3",
      "display_name": "Python 3"
    },
    "language_info": {
      "name": "python"
    }
  },
  "cells": [
    {
      "cell_type": "markdown",
      "metadata": {
        "id": "view-in-github",
        "colab_type": "text"
      },
      "source": [
        "<a href=\"https://colab.research.google.com/github/virajsoni8899/DataScience/blob/main/Netflix_Analysis.ipynb\" target=\"_parent\"><img src=\"https://colab.research.google.com/assets/colab-badge.svg\" alt=\"Open In Colab\"/></a>"
      ]
    },
    {
      "cell_type": "code",
      "source": [
        "#importing neccessary librarys\n",
        "import pandas as pd\n",
        "import numpy as np\n",
        "import matplotlib.pyplot as plt\n",
        "import seaborn as sns\n"
      ],
      "metadata": {
        "id": "LqSDzxhAv33i"
      },
      "execution_count": null,
      "outputs": []
    },
    {
      "cell_type": "markdown",
      "source": [
        "**Data Cleaning**"
      ],
      "metadata": {
        "id": "CfZ4uNYOnTOv"
      }
    },
    {
      "cell_type": "code",
      "source": [
        "df = pd.read_csv('/content/netflix_india_yt_data.csv')\n",
        "df.head()"
      ],
      "metadata": {
        "id": "k_MVnf-8wGkj",
        "collapsed": true
      },
      "execution_count": null,
      "outputs": []
    },
    {
      "cell_type": "code",
      "source": [
        "df.shape"
      ],
      "metadata": {
        "id": "kJlYA2XuiQaJ"
      },
      "execution_count": null,
      "outputs": []
    },
    {
      "cell_type": "code",
      "source": [
        "df.isnull().sum()"
      ],
      "metadata": {
        "id": "N3BhGM9wiRoO"
      },
      "execution_count": null,
      "outputs": []
    },
    {
      "cell_type": "code",
      "source": [
        "df['description'] = df['description'].fillna('')\n",
        "df['tags'] = df['tags'].fillna('')\n",
        "df['likeCount'] = df['likeCount'].fillna(0)\n",
        "df['commentCount'] = df['commentCount'].fillna(0)"
      ],
      "metadata": {
        "id": "rZWZf-cOiZ5s"
      },
      "execution_count": null,
      "outputs": []
    },
    {
      "cell_type": "code",
      "source": [
        "df.isnull().sum()"
      ],
      "metadata": {
        "id": "sYMFexhUjiE8"
      },
      "execution_count": null,
      "outputs": []
    },
    {
      "cell_type": "code",
      "source": [
        "df['TagsCount'] = df['tags'].apply(lambda x: len(x.split(',')) if x else 0)"
      ],
      "metadata": {
        "id": "MnIoEgvNj79H"
      },
      "execution_count": null,
      "outputs": []
    },
    {
      "cell_type": "code",
      "source": [
        "df.shape"
      ],
      "metadata": {
        "id": "tJOfWS0elb6j"
      },
      "execution_count": null,
      "outputs": []
    },
    {
      "cell_type": "code",
      "source": [
        "!pip install isodate\n",
        "import isodate\n",
        "\n",
        "# Convert ISO 8601 duration strings to seconds\n",
        "def convert_duration(duration_str):\n",
        "    try:\n",
        "        duration = isodate.parse_duration(duration_str)\n",
        "        return duration.total_seconds()\n",
        "    except:\n",
        "        return 0\n",
        "\n",
        "df['DurationInSec'] = df['duration'].apply(convert_duration)\n"
      ],
      "metadata": {
        "id": "rAfO9C3rlu-e"
      },
      "execution_count": null,
      "outputs": []
    },
    {
      "cell_type": "code",
      "source": [
        "df['Category'] = df['DurationInSec'].apply(lambda x: 'Short' if x <= 60 else 'Long')\n"
      ],
      "metadata": {
        "id": "jUuU11A-l1h3"
      },
      "execution_count": null,
      "outputs": []
    },
    {
      "cell_type": "code",
      "source": [
        "df.shape"
      ],
      "metadata": {
        "id": "Ea9n2L8mmCLn"
      },
      "execution_count": null,
      "outputs": []
    },
    {
      "cell_type": "code",
      "source": [
        "df.head()"
      ],
      "metadata": {
        "id": "Gb8wySfjmCyY",
        "collapsed": true
      },
      "execution_count": null,
      "outputs": []
    },
    {
      "cell_type": "markdown",
      "source": [
        "**Analysis**"
      ],
      "metadata": {
        "id": "i7u8X6ZQnYfh"
      }
    },
    {
      "cell_type": "code",
      "source": [
        "#  Does the duration of the video influence the views and comments ?\n",
        "correlation_with_views = df['DurationInSec'].corr(df['viewCount'])\n",
        "correlation_with_comments = df['DurationInSec'].corr(df['commentCount'])\n",
        "\n",
        "print(\"Correlation with Views:\", correlation_with_views)\n",
        "print(\"Correlation with Comments:\", correlation_with_comments)"
      ],
      "metadata": {
        "id": "YjKY2MqdmEAg"
      },
      "execution_count": null,
      "outputs": []
    },
    {
      "cell_type": "markdown",
      "source": [
        "Views vs Duration\n",
        "The near-zero correlation (~0.0009) suggests that video duration has virtually no impact on how many views a video gets in your dataset. People might be clicking on videos regardless of how long they are.\n",
        "\n",
        "Comments vs Duration\n",
        "*A slightly positive correlation (~0.05) means that longer videos might get a few more comments, but the effect is extremely minimal — it’s not statistically meaningful.*"
      ],
      "metadata": {
        "id": "VqqFEV6MpMuK"
      }
    },
    {
      "cell_type": "code",
      "source": [
        "# Is there a relation between the views and comments\n",
        "correlation = df['viewCount'].corr(df['commentCount'])\n",
        "print(\"Correlation:\", correlation)"
      ],
      "metadata": {
        "id": "AeBPmHj9pOPg"
      },
      "execution_count": null,
      "outputs": []
    },
    {
      "cell_type": "markdown",
      "source": [
        "Weak positive correlation: As view count increases, the number of comments tends to increase slightly, but not strongly."
      ],
      "metadata": {
        "id": "oDhl3_FCshiu"
      }
    },
    {
      "cell_type": "code",
      "source": [
        "#Does tag count matter to get more views?\n",
        "tag_views_corr = df['TagsCount'].corr(df['viewCount'])\n",
        "sns.scatterplot(x='TagsCount', y='viewCount', data=df)\n",
        "plt.title('Tags Count vs Views')\n"
      ],
      "metadata": {
        "id": "VF7Ri1mwr88k"
      },
      "execution_count": null,
      "outputs": []
    },
    {
      "cell_type": "markdown",
      "source": [
        "There's no strong upward trend suggesting that more tags → more views."
      ],
      "metadata": {
        "id": "XKY5lBNsMfcL"
      }
    },
    {
      "cell_type": "code",
      "source": [
        "# calculating corelation between tagscount and viewcount\n",
        "df['TagsCount'].corr(df['viewCount'])\n"
      ],
      "metadata": {
        "id": "X1CIgdlpMf9K"
      },
      "execution_count": null,
      "outputs": []
    },
    {
      "cell_type": "markdown",
      "source": [
        "No corelation between tagscount and viewcount"
      ],
      "metadata": {
        "id": "E5jZUE3zMtJq"
      }
    },
    {
      "cell_type": "code",
      "source": [
        "#Try grouping videos by tag ranges and compare average views:\n",
        "#Helps find if there's a sweet spot like “videos with 10–20 tags tend to perform best.”\n",
        "df['tags_bucket'] = pd.cut(df['TagsCount'], bins=[0, 5, 10, 20, 30, 50])\n",
        "df.groupby('tags_bucket')['viewCount'].mean().plot(kind='bar', title='Avg Views per Tags Count Bucket')\n"
      ],
      "metadata": {
        "id": "WahFyN5sMr-v"
      },
      "execution_count": null,
      "outputs": []
    },
    {
      "cell_type": "code",
      "source": [
        "#Which tags were used in top-performing videos?\n",
        "top_videos = df.sort_values(by='viewCount', ascending=False).head(10)\n",
        "top_videos[['title', 'TagsCount', 'tags', 'viewCount']]"
      ],
      "metadata": {
        "id": "xRJzXHDOreYV"
      },
      "execution_count": null,
      "outputs": []
    },
    {
      "cell_type": "markdown",
      "source": [
        "*Here’s what stands out:\n",
        "\n",
        "1. Commonly Repeating Tags:\n",
        "'netflix india'\n",
        "\n",
        "'netflix'\n",
        "\n",
        "'netflix shows'\n",
        "\n",
        "These appear across almost all top-performing videos, regardless of TagsCount.\n",
        "\n",
        "2. Kids/Animation Tags:\n",
        "'Kids', 'kids series', 'animated shows', 'Mighty Little Bheem'\n",
        "\n",
        "Suggests that kids/animated content performs extremely well on YouTube.\n",
        "\n",
        "3. Festival/Culture-Specific Tags:\n",
        "'Diwali', 'pongal', 'Indian', 'netflix india'\n",
        "\n",
        "These help boost regional and seasonal engagement.\n",
        "\n",
        "4. Entertainment-specific Tags:\n",
        "'Heist', 'Netflix 2023', 'Netflix Drama', 'Bella Ciao', 'Money Heist'\n",
        "\n",
        "These target specific shows/trends, helping with discoverability.*"
      ],
      "metadata": {
        "id": "jErfZz8bsZqg"
      }
    },
    {
      "cell_type": "code",
      "source": [
        "#Does Publishing Day Matter?\n",
        "#Yes, it can influence engagement significantly because:\n",
        "\n",
        "#Audience availability varies through the week.\n",
        "\n",
        "##🏖️ Weekends: More relaxed, higher leisure time — can lead to more views.\n",
        "\n",
        "#🧑‍💻 Weekdays: Varies by time zone, but evenings often perform better.\n",
        "df['publishedAt'] = pd.to_datetime(df['publishedAt'])\n",
        "df['published_day'] = df['publishedAt'].dt.day_name()\n",
        "views_by_day = df.groupby('published_day')['viewCount'].mean().sort_values(ascending=False)\n"
      ],
      "metadata": {
        "id": "T8RNBXENtNNG"
      },
      "execution_count": null,
      "outputs": []
    },
    {
      "cell_type": "code",
      "source": [
        "views_by_day"
      ],
      "metadata": {
        "id": "cZl1GXTzunPY"
      },
      "execution_count": null,
      "outputs": []
    },
    {
      "cell_type": "code",
      "source": [
        "plt.figure(figsize=(10, 5))\n",
        "sns.barplot(x=views_by_day.index, y=views_by_day.values)\n",
        "plt.title('Average Views by Day of the Week')\n",
        "plt.ylabel('Average View Count')\n",
        "plt.xlabel('Day of the Week')\n",
        "plt.xticks(rotation=45)\n",
        "plt.show()"
      ],
      "metadata": {
        "id": "hnN6Z359vpOd"
      },
      "execution_count": null,
      "outputs": []
    },
    {
      "cell_type": "code",
      "source": [
        "#🕒 Does Publishing Time Matter?\n",
        "#Absolutely, here's why:\n",
        "\n",
        "#Posting during peak hours when people are online (e.g., evenings, lunch hours) leads to higher initial engagement — and YouTube often promotes content with fast early traction.\n",
        "\n",
        "#For India-based viewers, best times might be:\n",
        "\n",
        "#⏰ Morning (8 AM–10 AM)\n",
        "\n",
        "#🌆 Evening (6 PM–9 PM)\n",
        "df['published_hour'] = df['publishedAt'].dt.hour\n",
        "views_by_hour = df.groupby('published_hour')['viewCount'].mean().sort_values(ascending=False)\n"
      ],
      "metadata": {
        "id": "Kxv8F8JLuoiF"
      },
      "execution_count": null,
      "outputs": []
    },
    {
      "cell_type": "code",
      "source": [
        "views_by_hour"
      ],
      "metadata": {
        "id": "RM8kqVe0u7bF"
      },
      "execution_count": null,
      "outputs": []
    },
    {
      "cell_type": "code",
      "source": [
        "plt.figure(figsize=(10, 5))\n",
        "sns.barplot(x=views_by_hour.index, y=views_by_hour.values)\n",
        "plt.title('Average Views by Hour of the Day')\n",
        "plt.ylabel('Average View Count')\n",
        "plt.xlabel('Hour (24hr format)')\n",
        "plt.show()"
      ],
      "metadata": {
        "id": "AV3_2JiGv3I9"
      },
      "execution_count": null,
      "outputs": []
    },
    {
      "cell_type": "code",
      "source": [
        "pivot_table = df.pivot_table(\n",
        "    values='viewCount',\n",
        "    index='published_day',\n",
        "    columns='published_hour',\n",
        "    aggfunc='mean'\n",
        ")\n",
        "\n",
        "# Optional: Sort the days to show Mon–Sun\n",
        "ordered_days = ['Monday', 'Tuesday', 'Wednesday', 'Thursday', 'Friday', 'Saturday', 'Sunday']\n",
        "pivot_table = pivot_table.reindex(ordered_days)\n",
        "\n",
        "plt.figure(figsize=(15, 6))\n",
        "sns.heatmap(pivot_table, cmap='YlGnBu', linewidths=0.5, annot=False)\n",
        "plt.title('Average Views by Day and Hour')\n",
        "plt.xlabel('Hour (24hr)')\n",
        "plt.ylabel('Day of the Week')\n",
        "plt.show()\n"
      ],
      "metadata": {
        "id": "SNyMZ2F2wGYT"
      },
      "execution_count": null,
      "outputs": []
    },
    {
      "cell_type": "code",
      "source": [
        "df.shape"
      ],
      "metadata": {
        "id": "SO-Spst71PEX"
      },
      "execution_count": null,
      "outputs": []
    },
    {
      "cell_type": "code",
      "source": [
        "df.head(3)"
      ],
      "metadata": {
        "id": "s107HVRW1P76",
        "collapsed": true
      },
      "execution_count": null,
      "outputs": []
    },
    {
      "cell_type": "code",
      "source": [
        "### ----------- AVERAGE LIKES BY DAY ------------\n",
        "likes_by_day = df.groupby('published_day')['likeCount'].mean().reindex(ordered_days)\n",
        "\n",
        "plt.figure(figsize=(10, 5))\n",
        "sns.barplot(x=likes_by_day.index, y=likes_by_day.values, palette='crest')\n",
        "plt.title('📅 Average Likes by Day of the Week')\n",
        "plt.ylabel('Average Likes')\n",
        "plt.xlabel('Day of the Week')\n",
        "plt.xticks(rotation=45)\n",
        "plt.show()\n"
      ],
      "metadata": {
        "id": "uFK-axyI1R8-"
      },
      "execution_count": null,
      "outputs": []
    },
    {
      "cell_type": "code",
      "source": [
        "### ----------- AVERAGE LIKES BY HOUR ------------\n",
        "likes_by_hour = df.groupby('published_hour')['likeCount'].mean()\n",
        "\n",
        "plt.figure(figsize=(10, 5))\n",
        "sns.barplot(x=likes_by_hour.index, y=likes_by_hour.values, palette='viridis')\n",
        "plt.title('⏰ Average Likes by Hour of the Day')\n",
        "plt.ylabel('Average Likes')\n",
        "plt.xlabel('Hour (24hr)')\n",
        "plt.show()"
      ],
      "metadata": {
        "id": "QNrvtGKk1qkg"
      },
      "execution_count": null,
      "outputs": []
    },
    {
      "cell_type": "code",
      "source": [
        "comments_by_day = df.groupby('published_day')['commentCount'].mean().reindex(ordered_days)\n",
        "\n",
        "plt.figure(figsize=(10, 5))\n",
        "sns.barplot(x=comments_by_day.index, y=comments_by_day.values, palette='rocket')\n",
        "plt.title('📅 Average Comments by Day of the Week')\n",
        "plt.ylabel('Average Comments')\n",
        "plt.xlabel('Day of the Week')\n",
        "plt.xticks(rotation=45)\n",
        "plt.show()\n",
        "\n",
        "### ----------- AVERAGE COMMENTS BY HOUR ------------\n",
        "comments_by_hour = df.groupby('published_hour')['commentCount'].mean()\n",
        "\n",
        "plt.figure(figsize=(10, 5))\n",
        "sns.barplot(x=comments_by_hour.index, y=comments_by_hour.values, palette='magma')\n",
        "plt.title('⏰ Average Comments by Hour of the Day')\n",
        "plt.ylabel('Average Comments')\n",
        "plt.xlabel('Hour (24hr)')\n",
        "plt.show()"
      ],
      "metadata": {
        "id": "sffIp5QR13gw"
      },
      "execution_count": null,
      "outputs": []
    },
    {
      "cell_type": "code",
      "source": [
        "#. Which video is most popular on our channel and break down the reasons why it worked well.\n",
        "\n",
        "top_video = df.loc[df['viewCount'].idxmax()]\n",
        "print(\"🎯 Most Popular Video:\\n\")\n",
        "print(f\"📌 Title       : {top_video['title']}\")\n",
        "print(f\"👁️ Views       : {top_video['viewCount']}\")\n",
        "print(f\"👍 Likes       : {top_video['likeCount']}\")\n",
        "print(f\"💬 Comments    : {top_video['commentCount']}\")\n",
        "print(f\"🏷️ Tags        : {top_video['TagsCount']}\")\n",
        "print(f\"🕒 Published At: {top_video['publishedAt']}\")\n"
      ],
      "metadata": {
        "id": "EAW8S-zlJFHH"
      },
      "execution_count": null,
      "outputs": []
    },
    {
      "cell_type": "markdown",
      "source": [
        "# **Break Down WHY It Worked Well**"
      ],
      "metadata": {
        "id": "6bbhO8-sMgtD"
      }
    },
    {
      "cell_type": "code",
      "source": [
        "#Title:\n",
        "#Does it include a trending topic?\n",
        "\n",
        "#Is it emotional, curious, or click-worthy?\n",
        "\n",
        "#Does it include keywords users may search?\n",
        "print(\"Title Length:\", len(top_video['title'].split()))"
      ],
      "metadata": {
        "id": "ePelVJh-MoBG"
      },
      "execution_count": null,
      "outputs": []
    },
    {
      "cell_type": "code",
      "source": [
        "#Are tags relevant and popular?\n",
        "print(\"Number of Tags:\", len(str(top_video['tags']).split(',')))\n"
      ],
      "metadata": {
        "id": "C1t7WfQcNETT"
      },
      "execution_count": null,
      "outputs": []
    },
    {
      "cell_type": "code",
      "source": [
        "#Was it short-form or long-form? (Analyze what category performs better on your channel.)\n",
        "print(\"Video Duration:\", top_video['DurationInSec'])  # if you already processed duration\n",
        "print(\"Format Category:\", top_video['Category']) # short or long\n"
      ],
      "metadata": {
        "id": "ywg0Ts7uNV0c"
      },
      "execution_count": null,
      "outputs": []
    },
    {
      "cell_type": "code",
      "source": [
        "#When was it posted? Match against your peak hour/day analysis.\n",
        "print(\"Published Day:\", top_video['publishedAt'].day_name())\n",
        "print(\"Published Hour:\", top_video['publishedAt'].hour)\n"
      ],
      "metadata": {
        "id": "mPuufulqNmuP"
      },
      "execution_count": null,
      "outputs": []
    },
    {
      "cell_type": "code",
      "source": [
        "#Calculate Engagement Rate\n",
        "engagement_rate = (top_video['likeCount'] + top_video['commentCount']) / top_video['viewCount']\n",
        "print(f\"📈 Engagement Rate: {engagement_rate:.2%}\")"
      ],
      "metadata": {
        "id": "fHJTReDaNxL9"
      },
      "execution_count": null,
      "outputs": []
    },
    {
      "cell_type": "markdown",
      "source": [
        "# It hit multiple sweet spots all at once:\n",
        "\n",
        "✅ Used high-performing tags in abundance.\n",
        "\n",
        "✅ Posted on a strong weekday (Wednesday) at a high-engagement time (1 PM).\n",
        "\n",
        "✅ Had an optimized title length and likely included trending or search-friendly terms.\n",
        "\n",
        "✅ Duration was long, but just short enough (~3.3 min) to stay engaging.\n",
        "\n",
        "✅ Strong engagement with comments and likes, suggesting it resonated with viewers."
      ],
      "metadata": {
        "id": "yjCUTEVhOYQ5"
      }
    },
    {
      "cell_type": "code",
      "source": [
        "df.head()"
      ],
      "metadata": {
        "id": "DIIXtd0wOZYA",
        "collapsed": true
      },
      "execution_count": null,
      "outputs": []
    },
    {
      "cell_type": "code",
      "source": [
        "# 6. Does Title Length Influence Views?\n",
        "df['TitleLength'] = df['title'].apply(lambda x: len(str(x).split()))\n",
        "df.head(3)"
      ],
      "metadata": {
        "id": "gJeiAaeEKVMr",
        "collapsed": true
      },
      "execution_count": null,
      "outputs": []
    },
    {
      "cell_type": "code",
      "source": [
        "plt.figure(figsize=(10, 5))\n",
        "sns.scatterplot(data=df, x='TitleLength', y='viewCount')\n",
        "plt.title(\"Title Length vs. Views\")\n",
        "plt.xlabel(\"Title Length (Words)\")\n",
        "plt.ylabel(\"Views\")\n",
        "plt.grid(True)\n",
        "plt.show()"
      ],
      "metadata": {
        "id": "AQpKTtauKnrK"
      },
      "execution_count": null,
      "outputs": []
    },
    {
      "cell_type": "code",
      "source": [
        "#checking correlation of both\n",
        "correlation = df['TitleLength'].corr(df['viewCount'])\n",
        "print(f\"Correlation between Title Length and Views: {correlation}\")\n"
      ],
      "metadata": {
        "id": "Ok8YXlHUK4gY"
      },
      "execution_count": null,
      "outputs": []
    },
    {
      "cell_type": "markdown",
      "source": [
        "# *Conclusion The title of the lenght does not affect the views count*"
      ],
      "metadata": {
        "id": "_5esC9fiK87C"
      }
    },
    {
      "cell_type": "code",
      "source": [
        "#. What is our views distribution (consider all the videos)\n",
        "plt.figure(figsize=(10, 6))\n",
        "sns.histplot(df['viewCount'], bins=30, kde=True)\n",
        "plt.title(\"Distribution of Video Views\")\n",
        "plt.xlabel(\"Views\")\n",
        "plt.ylabel(\"Number of Videos\")\n",
        "plt.grid(True)\n",
        "plt.show()"
      ],
      "metadata": {
        "id": "cB7P2AIHLGwg"
      },
      "execution_count": null,
      "outputs": []
    },
    {
      "cell_type": "markdown",
      "source": [
        "Highly Skewed Distribution (Right Skewed)\n",
        "Most videos have very low view counts.\n",
        "\n",
        "A tiny number of videos have extremely high views (long right tail).\n",
        "\n",
        "✅ This tells us:\n",
        "\n",
        "You might be relying heavily on a few viral videos.\n",
        "\n",
        "There’s a consistency gap — most content isn't engaging the audience."
      ],
      "metadata": {
        "id": "W61UcuRXNZVg"
      }
    },
    {
      "cell_type": "code",
      "source": [
        "df['log_views'] = np.log1p(df['viewCount'])  # log1p handles log(0)\n",
        "\n",
        "# Plot 2: Log scale\n",
        "plt.subplot(1, 2, 2)\n",
        "sns.histplot(df['log_views'], bins=50, kde=True, color='orange')\n",
        "plt.title('Distribution of Video Views (Log Scale)')\n",
        "plt.xlabel('Log(Views)')\n",
        "plt.ylabel('Number of Videos')\n",
        "\n",
        "plt.tight_layout()\n",
        "plt.show()"
      ],
      "metadata": {
        "id": "u9WYzINrNGnS"
      },
      "execution_count": null,
      "outputs": []
    },
    {
      "cell_type": "code",
      "source": [
        "df.head(2)"
      ],
      "metadata": {
        "id": "xcWs3MNDNpb9",
        "collapsed": true
      },
      "execution_count": null,
      "outputs": []
    },
    {
      "cell_type": "code",
      "source": [
        "correlation = df['TitleLength'].corr(df['log_views'])\n",
        "print(f\"Correlation between Title Length and  log_Views: {correlation}\")"
      ],
      "metadata": {
        "id": "jspUNkcwNqsm"
      },
      "execution_count": null,
      "outputs": []
    },
    {
      "cell_type": "markdown",
      "source": [
        "**The length of the title doesn’t significantly impact how many views a video gets.\n",
        "\n",
        "Viewers are not likely driven by just how long the title is — quality of content, tags, and timing likely matter more.**"
      ],
      "metadata": {
        "id": "peur19t2OBXo"
      }
    },
    {
      "cell_type": "code",
      "source": [
        "#Are there certain topics or themes that consistently perform better than others?\n",
        "high_perf = df[df['log_views'] >= df['log_views'].quantile(0.75)]\n",
        "low_perf = df[df['log_views'] <= df['log_views'].quantile(0.25)]\n",
        "high_perf\n"
      ],
      "metadata": {
        "id": "LXnP324fOETo",
        "collapsed": true
      },
      "execution_count": null,
      "outputs": []
    },
    {
      "cell_type": "code",
      "source": [
        "!pip install wordcloud\n",
        "from wordcloud import WordCloud\n",
        "\n",
        "def create_wordcloud(tag_series, title):\n",
        "    tags = tag_series.dropna().str.lower().str.replace('|', ' ').str.cat(sep=' ')\n",
        "    wordcloud = WordCloud(width=1000, height=500, background_color='white').generate(tags)\n",
        "    plt.figure(figsize=(15, 6))\n",
        "    plt.imshow(wordcloud, interpolation='bilinear')\n",
        "    plt.axis('off')\n",
        "    plt.title(title, fontsize=16)\n",
        "    plt.show()\n",
        "\n",
        "# Word cloud for superstar videos\n",
        "create_wordcloud(high_perf['tags'], \"🌟 Top Tags in Superstar Videos\")\n",
        "\n",
        "# Word cloud for sleepy videos\n",
        "create_wordcloud(low_perf['tags'], \"😴 Tags in Sleepy Videos\")\n"
      ],
      "metadata": {
        "id": "870eZVBoltBM"
      },
      "execution_count": null,
      "outputs": []
    },
    {
      "cell_type": "markdown",
      "source": [],
      "metadata": {
        "id": "RtMahHDPzemk"
      }
    },
    {
      "cell_type": "code",
      "source": [
        "no_tags_df = df[df['tags'].str.strip() == '']\n",
        "\n",
        "# Step 4: Define \"performed well\" as top 25% views\n",
        "threshold = df['viewCount'].quantile(0.75)\n",
        "\n",
        "# Step 5: Find videos with no tags AND high views\n",
        "no_tags_high_views = no_tags_df[no_tags_df['viewCount'] >= threshold]\n",
        "\n",
        "# Step 6: Print results\n",
        "print(\"Number of videos with no tags but high views:\", len(no_tags_high_views))\n",
        "no_tags_high_views[['title', 'viewCount', 'publishedAt']].sort_values(by='viewCount', ascending=False).head(10)"
      ],
      "metadata": {
        "id": "1f_DbMTdz2UL"
      },
      "execution_count": null,
      "outputs": []
    },
    {
      "cell_type": "code",
      "source": [
        "df.columns"
      ],
      "metadata": {
        "id": "hpMP_ByRHwS1"
      },
      "execution_count": null,
      "outputs": []
    },
    {
      "cell_type": "code",
      "source": [
        "df.head(3)"
      ],
      "metadata": {
        "id": "reSeljDzHym1"
      },
      "execution_count": null,
      "outputs": []
    },
    {
      "cell_type": "code",
      "source": [
        "df['published_date'] = df['publishedAt'].dt.date"
      ],
      "metadata": {
        "id": "kdjYweVnH5xg"
      },
      "execution_count": null,
      "outputs": []
    },
    {
      "cell_type": "code",
      "source": [
        "df['published_date']"
      ],
      "metadata": {
        "id": "vJ0yc9AKIHLJ"
      },
      "execution_count": null,
      "outputs": []
    },
    {
      "cell_type": "code",
      "source": [
        "publish_frequency = df['published_date'].value_counts().sort_index()\n",
        "publish_frequency"
      ],
      "metadata": {
        "id": "j3xHUby6IM5v"
      },
      "execution_count": null,
      "outputs": []
    },
    {
      "cell_type": "code",
      "source": [
        "df.columns"
      ],
      "metadata": {
        "id": "Cp8_pmmyJOlE"
      },
      "execution_count": null,
      "outputs": []
    },
    {
      "cell_type": "code",
      "source": [
        "video_freq_per_day = df['published_date'].value_counts().sort_index()\n",
        "\n",
        "# Convert to DataFrame for easy viewing\n",
        "video_freq_df = video_freq_per_day.reset_index()\n",
        "video_freq_df.columns = ['Date', 'Videos_Uploaded']"
      ],
      "metadata": {
        "id": "P2jIGsqJZgi0"
      },
      "execution_count": null,
      "outputs": []
    },
    {
      "cell_type": "code",
      "source": [
        "plt.figure(figsize=(15, 4))\n",
        "plt.plot(video_freq_df['Date'], video_freq_df['Videos_Uploaded'], marker='o', linestyle='-')\n",
        "plt.title(\"Video Publishing Frequency Over Time\")\n",
        "plt.xlabel(\"Date\")\n",
        "plt.ylabel(\"Number of Videos Uploaded\")\n",
        "plt.xticks(rotation=45)\n",
        "plt.grid(True)\n",
        "plt.tight_layout()\n",
        "plt.show()"
      ],
      "metadata": {
        "id": "5URItC6xZoA_"
      },
      "execution_count": null,
      "outputs": []
    },
    {
      "cell_type": "code",
      "source": [
        "#Which months are busiest?\n",
        "df['month'] = df['publishedAt'].dt.to_period('M')\n",
        "monthly_uploads = df['month'].value_counts().sort_index()\n",
        "\n",
        "# Plot\n",
        "monthly_uploads.plot(kind='bar', figsize=(20, 5), title=\"Monthly Uploads\")"
      ],
      "metadata": {
        "id": "hLi8c6TCaKDz"
      },
      "execution_count": null,
      "outputs": []
    },
    {
      "cell_type": "code",
      "source": [
        "#Average uploads per year\n",
        "df['year'] = df['publishedAt'].dt.year\n",
        "df['year'].value_counts().sort_index()"
      ],
      "metadata": {
        "id": "AA2q_nkyaT25"
      },
      "execution_count": null,
      "outputs": []
    },
    {
      "cell_type": "code",
      "source": [
        "upload_views = df.groupby('published_date')['viewCount'].sum()\n",
        "\n",
        "# Correlation between views and uploads per day\n",
        "combined = video_freq_per_day.to_frame().join(upload_views)\n",
        "combined.columns = ['Videos_Uploaded', 'Total_Views']\n",
        "correlation = combined.corr().iloc[0, 1]\n",
        "print(f\"Correlation between uploads and views per day: {correlation:.2f}\")"
      ],
      "metadata": {
        "id": "P3GAqS8JaYWR"
      },
      "execution_count": null,
      "outputs": []
    },
    {
      "cell_type": "markdown",
      "source": [
        " Uploading more helps a little, but it’s not the only thing that drives views.\n",
        "\n",
        "📹 A consistent upload schedule might support channel growth, but quality + content type matter a lot more."
      ],
      "metadata": {
        "id": "aatxFrZfalA8"
      }
    },
    {
      "cell_type": "code",
      "source": [
        "from collections import Counter\n",
        "tags_series = df['tags'].dropna()\n",
        "all_tags = [tags.strip().lower() for tags_list in tags_series for tags in tags_list.split(',')]\n",
        "\n",
        "# Count frequency of each tag\n",
        "tag_counts = Counter(all_tags)\n",
        "\n",
        "# Convert to DataFrame for visualization\n",
        "top_tags_df = pd.DataFrame(tag_counts.most_common(20), columns=['Tag', 'Count'])\n",
        "\n",
        "# Plot the top 20 tags\n",
        "plt.figure(figsize=(12, 6))\n",
        "plt.barh(top_tags_df['Tag'], top_tags_df['Count'], color='skyblue')\n",
        "plt.xlabel('Count')\n",
        "plt.title('Top 20 Most Used Tags')\n",
        "plt.gca().invert_yaxis()\n",
        "plt.show()"
      ],
      "metadata": {
        "id": "4Yux5bOXbG-g"
      },
      "execution_count": null,
      "outputs": []
    },
    {
      "cell_type": "code",
      "source": [
        "import re\n",
        "\n",
        "titles_cleaned = df['title'].dropna().str.lower().apply(lambda x: re.sub(r'[^a-z0-9\\s]', '', x))\n",
        "\n",
        "# Split each title into words\n",
        "all_words = [word for title in titles_cleaned for word in title.split()]\n",
        "\n",
        "# Optionally, remove very common words (stopwords)\n",
        "stopwords = {'the', 'a', 'an', 'is', 'of', 'in', 'to', 'for', 'and', 'on', 'with', 'how', 'what', 'why'}\n",
        "filtered_words = [word for word in all_words if word not in stopwords]\n",
        "\n",
        "# Count word frequency\n",
        "word_counts = Counter(filtered_words)\n",
        "\n",
        "# Convert to DataFrame\n",
        "top_words_df = pd.DataFrame(word_counts.most_common(20), columns=['Word', 'Count'])\n",
        "\n",
        "# Plot\n",
        "plt.figure(figsize=(12,6))\n",
        "plt.barh(top_words_df['Word'], top_words_df['Count'], color='orange')\n",
        "plt.xlabel('Count')\n",
        "plt.title('Top 20 Most Common Words in Video Titles')\n",
        "plt.gca().invert_yaxis()\n",
        "plt.show()"
      ],
      "metadata": {
        "id": "aTtUixWFb5UY"
      },
      "execution_count": null,
      "outputs": []
    },
    {
      "cell_type": "code",
      "source": [
        "print(\"🔎 Sample of 'viewCount' values:\")\n",
        "print(df['viewCount'].head(10))\n"
      ],
      "metadata": {
        "id": "1kaHWoNrg0Hj"
      },
      "execution_count": null,
      "outputs": []
    },
    {
      "cell_type": "code",
      "source": [
        "# Check type of viewCount column\n",
        "print(\"\\n🔍 Data type of 'viewCount':\", df['viewCount'].dtype)"
      ],
      "metadata": {
        "id": "e_z4RAYnhS9e"
      },
      "execution_count": null,
      "outputs": []
    },
    {
      "cell_type": "code",
      "source": [
        "# Check for commas (string format)\n",
        "print(\"\\n🔍 Are there any commas in 'viewCount'?\")\n",
        "print(df['viewCount'].astype(str).str.contains(',').any())"
      ],
      "metadata": {
        "id": "Gw7sWlsRhVuJ"
      },
      "execution_count": null,
      "outputs": []
    },
    {
      "cell_type": "code",
      "source": [
        "# Check how many unique video IDs you have in total\n",
        "print(\"\\n📊 Total unique video IDs in dataset:\")\n",
        "print(df['video_id'].nunique())"
      ],
      "metadata": {
        "id": "35KDxw4BhXnH"
      },
      "execution_count": null,
      "outputs": []
    },
    {
      "cell_type": "code",
      "source": [
        "df_millions = df[df['viewCount']>1_000_000]\n",
        "df_millions"
      ],
      "metadata": {
        "id": "VjobmTUFh5oh"
      },
      "execution_count": null,
      "outputs": []
    },
    {
      "cell_type": "code",
      "source": [
        "df.columns"
      ],
      "metadata": {
        "id": "f3Q5ghNIsfeF"
      },
      "execution_count": null,
      "outputs": []
    },
    {
      "cell_type": "code",
      "source": [
        "dupes = df[\"video_id\"].duplicated().sum()\n",
        "print(f\"Duplicate video IDs: {dupes}\")\n"
      ],
      "metadata": {
        "id": "FosPhY5VwBB2"
      },
      "execution_count": null,
      "outputs": []
    },
    {
      "cell_type": "code",
      "source": [
        "df_unique = df.drop_duplicates(subset=\"video_id\", keep=\"first\")"
      ],
      "metadata": {
        "id": "lljYKrxUwUV9"
      },
      "execution_count": null,
      "outputs": []
    },
    {
      "cell_type": "code",
      "source": [
        "# Group by ID and take max viewCount per ID just to be super clean\n",
        "df_grouped = df_unique.groupby(\"video_id\")[\"viewCount\"].max().reset_index()\n",
        "\n",
        "# Now filter\n",
        "final_count = df_grouped[df_grouped[\"viewCount\"] > 1_000_000].shape[0]\n",
        "print(\"💯 Rechecked final count:\", final_count)\n"
      ],
      "metadata": {
        "id": "XqVOF-Jgwhvk"
      },
      "execution_count": null,
      "outputs": []
    },
    {
      "cell_type": "code",
      "source": [],
      "metadata": {
        "id": "Lyt0Z2qKlHtd"
      },
      "execution_count": null,
      "outputs": []
    }
  ]
}